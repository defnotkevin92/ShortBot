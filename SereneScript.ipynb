{
 "cells": [
  {
   "cell_type": "code",
   "execution_count": null,
   "id": "b6cc5c2e-10ee-4d67-be28-1e542ace8159",
   "metadata": {},
   "outputs": [],
   "source": [
    "%run SngResponseFetcher.py\n",
    "%run SngTTSSynthesizer.py\n",
    "%run SngWavToSRT.py\n",
    "%run SngTempMP4Maker.py\n",
    "%run SngEmbedSubtitles.pe"
   ]
  },
  {
   "cell_type": "code",
   "execution_count": null,
   "id": "4558f685-2a6b-48ba-a66f-f9bf7f381e60",
   "metadata": {},
   "outputs": [],
   "source": [
    "%run upload_video.py --file= \"FinalVideo.mp4\" --title=\"Test Video 1\" --description=\"Testing Random AI Generated Content and Programmatic Upload\" --keywords=\"AI, Artificial Intelligence, Programming, Code, Coding, Horoscope\" --category=\"\" --privacyStatus=\"private\""
   ]
  },
  {
   "cell_type": "code",
   "execution_count": null,
   "id": "2d82e3d3-c3dd-470f-8319-a1c208083e99",
   "metadata": {},
   "outputs": [],
   "source": []
  }
 ],
 "metadata": {
  "kernelspec": {
   "display_name": "Python 3 (ipykernel)",
   "language": "python",
   "name": "python3"
  },
  "language_info": {
   "codemirror_mode": {
    "name": "ipython",
    "version": 3
   },
   "file_extension": ".py",
   "mimetype": "text/x-python",
   "name": "python",
   "nbconvert_exporter": "python",
   "pygments_lexer": "ipython3",
   "version": "3.11.3"
  }
 },
 "nbformat": 4,
 "nbformat_minor": 5
}
